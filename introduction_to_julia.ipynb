{
 "cells": [
  {
   "cell_type": "markdown",
   "metadata": {
    "slideshow": {
     "slide_type": "slide"
    }
   },
   "source": [
    "<!-- <img src=\"media/titlepage.png\" width=\"100%\"> -->\n",
    "\n",
    "\n",
    "# Tutorial on Julia and Trixi.jl\n",
    "\n",
    "## Brief introduction to Julia\n",
    "\n",
    "### Hendrik Ranocha, Michael Schlottke-Lakemper\n",
    "\n",
    "Follow along at https://github.com/trixi-framework/tutorial-2023-kassel"
   ]
  },
  {
   "cell_type": "markdown",
   "metadata": {
    "slideshow": {
     "slide_type": "skip"
    }
   },
   "source": [
    "# Brief introduction to Julia\n",
    "\n",
    "[Julia](https://julialang.org) is a modern high-level programming language developed specifically with scientific computing in mind. We will briefly introduce Julia and demonstrate some of its design principles to help you getting started with the tutorial on [Trixi.jl](https://github.com/trixi-framework/Trixi.jl), our framework of high-order methods for hyperbolic PDEs written in Julia. This introduction is aimed at researchers in numerical analysis with previous programming experience.\n",
    "\n",
    "\n",
    "## Further information on running this notebook\n",
    "\n",
    "This introduction is available as a Jupyter notebook at https://github.com/trixi-framework/tutorial-2023-kassel, including information how to set up everything. For more information about Trixi and how to use it, please visit [Trixi on GitHub](https://github.com/trixi-framework/Trixi.jl) or refer to the [official documentation](https://trixi-framework.github.io/Trixi.jl/stable/).\n",
    "\n",
    "This notebook was set up and tested with Julia v1.9.0 but may also work with other versions.\n",
    "\n",
    "*Note:* If you change a variable in a later cell and then re-execute an earlier cell, the results might change unexpectedly. Thus if in doubt, re-run the entire notebook *in order*. The reason is that all cells in a Jupyter notebooks share a common variable space.\n",
    "\n",
    "*Note:* This notebook is tested using Firefox. Most parts should also work for other browsers such as Chrome, but the videos used in the last demonstrations might not be displayed correctly.\n",
    "\n",
    "\n",
    "## Authors and license\n",
    "\n",
    "This material is distributed by Hendrik Ranocha and Michael Schlottke-Lakemper under the MIT license. It is inspired by and partially derived from the talks\n",
    "- [Robin Deits (2020), Intro to Julia Programming Language with Detroit Tech Watch](https://www.youtube.com/watch?v=qLO-yaUkLKE)\n",
    "- [Hendrik Ranocha (2021), Introduction to Julia and Trixi, a numerical simulation framework for hyperbolic PDEs](https://github.com/trixi-framework/talk-2021-Introduction_to_Julia_and_Trixi)"
   ]
  },
  {
   "cell_type": "code",
   "execution_count": null,
   "metadata": {
    "slideshow": {
     "slide_type": "skip"
    }
   },
   "outputs": [],
   "source": [
    "# Install all dependencies used in this talk\n",
    "import Pkg\n",
    "Pkg.activate(@__DIR__)\n",
    "Pkg.instantiate()"
   ]
  },
  {
   "cell_type": "code",
   "execution_count": null,
   "metadata": {
    "slideshow": {
     "slide_type": "skip"
    }
   },
   "outputs": [],
   "source": [
    "ENV[\"COLUMNS\"] = 100 # display width"
   ]
  },
  {
   "cell_type": "markdown",
   "metadata": {
    "slideshow": {
     "slide_type": "slide"
    }
   },
   "source": [
    "# Introduction to Julia\n",
    "\n",
    "- [julialang.org](https://julialang.org)\n",
    "- Julia is a high-level language like Python/Matlab with the performance of a fast language like C/C++/Fortran\n",
    "- Julia is designed for scientific computing...\n",
    "  - N-dimensional arrays\n",
    "  - Reproducibility\n",
    "- ...and valuable for general programming\n",
    "  - Growing ecosystem of packages\n",
    "  - Rich type system\n",
    "- Encourages good software development practices"
   ]
  },
  {
   "cell_type": "markdown",
   "metadata": {
    "slideshow": {
     "slide_type": "subslide"
    }
   },
   "source": [
    "## Julia at a glance\n",
    "\n",
    "- First public release in 2012, version 1.0 released in 2018\n",
    "- Free and open source (Julia itself is MIT licensed)\n",
    "- Built-in JIT compiler transforms Julia code to native assembly at run time\n",
    "  - Uses LLVM under the hood\n",
    "- Garbage collected\n",
    "- Dynamically typed\n",
    "- Organized via multiple dispatch"
   ]
  },
  {
   "cell_type": "markdown",
   "metadata": {
    "slideshow": {
     "slide_type": "slide"
    }
   },
   "source": [
    "## A brief tour of Julia\n",
    "\n",
    "### The basics"
   ]
  },
  {
   "cell_type": "code",
   "execution_count": null,
   "metadata": {
    "slideshow": {
     "slide_type": "fragment"
    }
   },
   "outputs": [],
   "source": [
    "# Arithmetic\n",
    "1 + 2"
   ]
  },
  {
   "cell_type": "code",
   "execution_count": null,
   "metadata": {
    "slideshow": {
     "slide_type": "fragment"
    }
   },
   "outputs": [],
   "source": [
    "# Strings\n",
    "println(\"Hello world\")"
   ]
  },
  {
   "cell_type": "code",
   "execution_count": null,
   "metadata": {
    "slideshow": {
     "slide_type": "fragment"
    }
   },
   "outputs": [],
   "source": [
    "# Arrays\n",
    "x = [1, 2, 3]\n",
    "sum(x)"
   ]
  },
  {
   "cell_type": "markdown",
   "metadata": {
    "slideshow": {
     "slide_type": "subslide"
    }
   },
   "source": [
    "### Unicode and LaTeX"
   ]
  },
  {
   "cell_type": "code",
   "execution_count": null,
   "metadata": {
    "slideshow": {
     "slide_type": "fragment"
    }
   },
   "outputs": [],
   "source": [
    "# type `\\beta` + TAB\n",
    "β = π / 4\n",
    "tan(β) ≈ sin(β) / cos(β)"
   ]
  },
  {
   "cell_type": "code",
   "execution_count": null,
   "metadata": {
    "slideshow": {
     "slide_type": "fragment"
    }
   },
   "outputs": [],
   "source": [
    "using LinearAlgebra, Plots, LaTeXStrings\n",
    "n = 1_000\n",
    "λ = eigvals(randn(n, n))\n",
    "scatter(real(λ), imag(λ), aspect_ratio = :equal, legend = nothing,\n",
    "        xguide = L\"\\operatorname{Re} \\lambda\", yguide = L\"\\operatorname{Im} \\lambda\")"
   ]
  },
  {
   "cell_type": "code",
   "execution_count": null,
   "metadata": {
    "slideshow": {
     "slide_type": "skip"
    }
   },
   "outputs": [],
   "source": [
    "# to free some memory on mybinder.org\n",
    "λ = nothing\n",
    "GC.gc()"
   ]
  },
  {
   "cell_type": "markdown",
   "metadata": {
    "slideshow": {
     "slide_type": "subslide"
    }
   },
   "source": [
    "### Sparse linear algebra"
   ]
  },
  {
   "cell_type": "code",
   "execution_count": null,
   "metadata": {
    "slideshow": {
     "slide_type": "-"
    }
   },
   "outputs": [],
   "source": [
    "using SparseArrays\n",
    "n = 30\n",
    "A = spdiagm(0 => 2 * ones(n), 1 => -ones(n-1), -1 => -ones(n-1))"
   ]
  },
  {
   "cell_type": "code",
   "execution_count": null,
   "metadata": {
    "slideshow": {
     "slide_type": "fragment"
    }
   },
   "outputs": [],
   "source": [
    "f = rand(n)\n",
    "u = A \\ f\n",
    "norm(A * u - f)"
   ]
  },
  {
   "cell_type": "markdown",
   "metadata": {
    "slideshow": {
     "slide_type": "subslide"
    }
   },
   "source": [
    "### Functions"
   ]
  },
  {
   "cell_type": "code",
   "execution_count": null,
   "metadata": {},
   "outputs": [],
   "source": [
    "function say_hello(to_whom)\n",
    "    println(\"Hello \", to_whom)\n",
    "end"
   ]
  },
  {
   "cell_type": "code",
   "execution_count": null,
   "metadata": {
    "slideshow": {
     "slide_type": "fragment"
    }
   },
   "outputs": [],
   "source": [
    "say_hello(\"world\")"
   ]
  },
  {
   "cell_type": "markdown",
   "metadata": {
    "slideshow": {
     "slide_type": "fragment"
    }
   },
   "source": [
    "Functions are generic, so you can pass everything that works (duck typing)"
   ]
  },
  {
   "cell_type": "code",
   "execution_count": null,
   "metadata": {},
   "outputs": [],
   "source": [
    "say_hello([1, 2, 3])"
   ]
  },
  {
   "cell_type": "markdown",
   "metadata": {
    "slideshow": {
     "slide_type": "slide"
    }
   },
   "source": [
    "### Types\n",
    "\n",
    "Everything in Julia has a type"
   ]
  },
  {
   "cell_type": "code",
   "execution_count": null,
   "metadata": {
    "slideshow": {
     "slide_type": "fragment"
    }
   },
   "outputs": [],
   "source": [
    "typeof(1)"
   ]
  },
  {
   "cell_type": "code",
   "execution_count": null,
   "metadata": {
    "slideshow": {
     "slide_type": "fragment"
    }
   },
   "outputs": [],
   "source": [
    "typeof(1.0)"
   ]
  },
  {
   "cell_type": "code",
   "execution_count": null,
   "metadata": {
    "slideshow": {
     "slide_type": "fragment"
    }
   },
   "outputs": [],
   "source": [
    "typeof(π)"
   ]
  },
  {
   "cell_type": "code",
   "execution_count": null,
   "metadata": {
    "slideshow": {
     "slide_type": "fragment"
    }
   },
   "outputs": [],
   "source": [
    "typeof(typeof)"
   ]
  },
  {
   "cell_type": "code",
   "execution_count": null,
   "metadata": {
    "slideshow": {
     "slide_type": "fragment"
    }
   },
   "outputs": [],
   "source": [
    "typeof([1, 2, 3])"
   ]
  },
  {
   "cell_type": "markdown",
   "metadata": {
    "slideshow": {
     "slide_type": "subslide"
    }
   },
   "source": [
    "You can create your own types easily"
   ]
  },
  {
   "cell_type": "code",
   "execution_count": null,
   "metadata": {},
   "outputs": [],
   "source": [
    "struct Person\n",
    "    name::String\n",
    "end\n",
    "\n",
    "alice = Person(\"Alice\")"
   ]
  },
  {
   "cell_type": "markdown",
   "metadata": {
    "slideshow": {
     "slide_type": "fragment"
    }
   },
   "source": [
    "User-defined types are as efficient as anything built-in:"
   ]
  },
  {
   "cell_type": "code",
   "execution_count": null,
   "metadata": {},
   "outputs": [],
   "source": [
    "struct Point2D\n",
    "    x::Float64\n",
    "    y::Float64\n",
    "end\n",
    "\n",
    "p = Point2D(1.0, 2.0)\n",
    "\n",
    "sizeof(p)"
   ]
  },
  {
   "cell_type": "markdown",
   "metadata": {
    "slideshow": {
     "slide_type": "slide"
    }
   },
   "source": [
    "### Multiple dispatch (short version)"
   ]
  },
  {
   "cell_type": "markdown",
   "metadata": {
    "slideshow": {
     "slide_type": "skip"
    }
   },
   "source": [
    "Julia implements the paradigm of \"dynamic multiple dispatch\" (or, abbreviated, just \"multiple dispatch\"). Multiple dispatch is similar to what is known from other programming languages as *function overloading*: You can have multiple functions with the same name, as long as they differ in their call signature, i.e., if they have different argument types and/or a different number of arguments. In contrast to compiled languages such as C/C++ or Fortran, this works not just with types known statically to the compiler, but also with data where the concrete type is only known at *runtime*.\n",
    "\n",
    "For a more in-depth introduction to multiple dispatch, see [Stefan Karpinski's talk at JuliaCon (2019)](https://www.youtube.com/watch?v=kc9HwsxE1OY).\n",
    "\n",
    "We start by creating a generic version of a function to calculate the volume integral in a numerical simulation, called `calc_volume_integral!`. The `!` is just a regular character here and is a best practice convention in Julia to denote a function that mutates at least one of its inputs. Since we do not care about computing anything here, we just have it print a short message:"
   ]
  },
  {
   "cell_type": "code",
   "execution_count": null,
   "metadata": {},
   "outputs": [],
   "source": [
    "calc_volume_integral!(du, u, mesh, equations) = println(\"general version\")"
   ]
  },
  {
   "cell_type": "markdown",
   "metadata": {
    "slideshow": {
     "slide_type": "fragment"
    }
   },
   "source": [
    "As a next step, we create one data type for the mesh and two data types for the `equations` argument, and create an instance for each:"
   ]
  },
  {
   "cell_type": "code",
   "execution_count": null,
   "metadata": {
    "slideshow": {
     "slide_type": "-"
    }
   },
   "outputs": [],
   "source": [
    "struct StructuredMesh end\n",
    "struct CompressibleEulerEq end\n",
    "struct NavierStokesEq end\n",
    "\n",
    "mesh = StructuredMesh()\n",
    "euler_eq = CompressibleEulerEq()\n",
    "navier_stokes_eq = NavierStokesEq()"
   ]
  },
  {
   "cell_type": "markdown",
   "metadata": {
    "slideshow": {
     "slide_type": "fragment"
    }
   },
   "source": [
    "Now we can start dispatching! We create two additional **methods** for our function, one for each of our new equation types:"
   ]
  },
  {
   "cell_type": "code",
   "execution_count": null,
   "metadata": {
    "slideshow": {
     "slide_type": "-"
    }
   },
   "outputs": [],
   "source": [
    "calc_volume_integral!(du, u, mesh, equations::CompressibleEulerEq) = println(\"Compressible Euler version\")\n",
    "calc_volume_integral!(du, u, mesh, equations::NavierStokesEq) = println(\"Navier-Stokes version\")"
   ]
  },
  {
   "cell_type": "markdown",
   "metadata": {
    "slideshow": {
     "slide_type": "subslide"
    }
   },
   "source": [
    "We can now have a look at what is happening when calling `calc_volume_integral!` with different arguments. For this, we create some dummy argumemnts for `du` and `u`, and then call `calc_volume_integral!` with the variable of type `CompressibleEulerEquations`:"
   ]
  },
  {
   "cell_type": "code",
   "execution_count": null,
   "metadata": {
    "slideshow": {
     "slide_type": "-"
    }
   },
   "outputs": [],
   "source": [
    "du = rand(5); u = rand(5)\n",
    "\n",
    "calc_volume_integral!(du, u, mesh, euler_eq)"
   ]
  },
  {
   "cell_type": "markdown",
   "metadata": {
    "slideshow": {
     "slide_type": "fragment"
    }
   },
   "source": [
    "As expected, the compressible Euler specialization was used. Similarly, if we call the function with the Navier-Stokes variable, we get:"
   ]
  },
  {
   "cell_type": "code",
   "execution_count": null,
   "metadata": {
    "slideshow": {
     "slide_type": "-"
    }
   },
   "outputs": [],
   "source": [
    "calc_volume_integral!(du, u, mesh, navier_stokes_eq)"
   ]
  },
  {
   "cell_type": "markdown",
   "metadata": {
    "slideshow": {
     "slide_type": "fragment"
    }
   },
   "source": [
    "And finally, if we use an argument of a type for which no special function is available, we get a call to the original, generic version:"
   ]
  },
  {
   "cell_type": "code",
   "execution_count": null,
   "metadata": {
    "slideshow": {
     "slide_type": "-"
    }
   },
   "outputs": [],
   "source": [
    "struct AdvectionEquation end\n",
    "advection_eq = AdvectionEquation()\n",
    "\n",
    "calc_volume_integral!(du, u, mesh, advection_eq)"
   ]
  },
  {
   "cell_type": "markdown",
   "metadata": {
    "slideshow": {
     "slide_type": "subslide"
    }
   },
   "source": [
    "This was dispatch on a single input. We now create a new mesh type for adaptive meshes:"
   ]
  },
  {
   "cell_type": "code",
   "execution_count": null,
   "metadata": {
    "slideshow": {
     "slide_type": "-"
    }
   },
   "outputs": [],
   "source": [
    "struct AdaptiveMesh end\n",
    "adaptive = AdaptiveMesh()"
   ]
  },
  {
   "cell_type": "markdown",
   "metadata": {
    "slideshow": {
     "slide_type": "fragment"
    }
   },
   "source": [
    "Then we implement a corresponding specialization that dispatches on *both* the mesh and the equations type:"
   ]
  },
  {
   "cell_type": "code",
   "execution_count": null,
   "metadata": {
    "slideshow": {
     "slide_type": "-"
    }
   },
   "outputs": [],
   "source": [
    "function calc_volume_integral!(du, u, mesh::AdaptiveMesh, equations::NavierStokesEq)\n",
    "    println(\"Navier-Stokes for adpative meshes version\")\n",
    "end"
   ]
  },
  {
   "cell_type": "markdown",
   "metadata": {
    "slideshow": {
     "slide_type": "fragment"
    }
   },
   "source": [
    "As expected, we still get the general NSE version if we use our structured mesh variable:"
   ]
  },
  {
   "cell_type": "code",
   "execution_count": null,
   "metadata": {
    "slideshow": {
     "slide_type": "-"
    }
   },
   "outputs": [],
   "source": [
    "calc_volume_integral!(du, u, mesh, navier_stokes_eq)"
   ]
  },
  {
   "cell_type": "markdown",
   "metadata": {
    "slideshow": {
     "slide_type": "fragment"
    }
   },
   "source": [
    "However, when we use our new, adaptive mesh type as input, we get the specialized version:"
   ]
  },
  {
   "cell_type": "code",
   "execution_count": null,
   "metadata": {
    "slideshow": {
     "slide_type": "-"
    }
   },
   "outputs": [],
   "source": [
    "calc_volume_integral!(du, u, adaptive, navier_stokes_eq)"
   ]
  },
  {
   "cell_type": "markdown",
   "metadata": {
    "slideshow": {
     "slide_type": "skip"
    }
   },
   "source": [
    "All of this could theoretically have been achieved using static multiple dispatch a.k.a. as function overloading. However, what does it mean that Julia supports dynamic multiple dispatch? In essence, it means that this concept of using the most \"fitting\" method will still work, even if the compiler is **fundamentally unable** to determine the types of the input arguments ahead of time.\n",
    "\n",
    "To illustrate this, we will have a look at the following function. It sets up a dummy numerical simulation and then decides *randomly* whether to create a structured mesh or an adaptive mesh (whether this is good coding practice, we will leave up to the audience to decide...):"
   ]
  },
  {
   "cell_type": "code",
   "execution_count": null,
   "metadata": {
    "slideshow": {
     "slide_type": "subslide"
    }
   },
   "outputs": [],
   "source": [
    "function run_simulation()\n",
    "    du = rand(5)\n",
    "    du = rand(5)\n",
    "    \n",
    "    equations = NavierStokesEq()\n",
    "    \n",
    "    if rand(Bool)\n",
    "        mesh = AdaptiveMesh()\n",
    "    else\n",
    "        mesh = StructuredMesh()\n",
    "    end\n",
    "    \n",
    "    calc_volume_integral!(du, u, mesh, equations)\n",
    "end"
   ]
  },
  {
   "cell_type": "markdown",
   "metadata": {
    "slideshow": {
     "slide_type": "skip"
    }
   },
   "source": [
    "When we now run the simulation multiple times, we can see that depending on the *type* of the randomly generated mesh, the correct version of `calc_volume_integral!` is called, even though it is impossible for the compiler to know the types beforehand:"
   ]
  },
  {
   "cell_type": "code",
   "execution_count": null,
   "metadata": {
    "slideshow": {
     "slide_type": "fragment"
    }
   },
   "outputs": [],
   "source": [
    "for i in 1:10\n",
    "    run_simulation()\n",
    "end"
   ]
  },
  {
   "cell_type": "markdown",
   "metadata": {
    "slideshow": {
     "slide_type": "skip"
    }
   },
   "source": [
    "Finally, what do you get out of this? First, it allows one to forget about the distinction between runtime types and compile-time types during code development: You can be sure, that Julia will always dispatch on the actual type and do The Right Thing™.\n",
    "\n",
    "In addition, however, multiple dynamic dispatch is one important component of what enables the easy interoperability between packages. The Julia package ecosystem if built around types, and if you write your package code in a generic way, others can easily extend it for their own types.\n",
    "\n",
    "For example, we can extend the method `Base.abs`, which returns the absolute value of its argument, to work with our newly created type `Point` from the previous section:"
   ]
  },
  {
   "cell_type": "code",
   "execution_count": null,
   "metadata": {
    "slideshow": {
     "slide_type": "skip"
    }
   },
   "outputs": [],
   "source": [
    "# struct Point2D\n",
    "#     x::Float64\n",
    "#     y::Float64\n",
    "# end\n",
    "Base.abs(p::Point2D) = Point2D(abs(p.x), abs(p.y))"
   ]
  },
  {
   "cell_type": "markdown",
   "metadata": {
    "slideshow": {
     "slide_type": "skip"
    }
   },
   "source": [
    "This implementation will do the (somewhat) sane thing here and call `abs` on each of the `Point2D`'s fields. We can now see this in action by creating a point with negative entries and then feeding it through `abs`:"
   ]
  },
  {
   "cell_type": "code",
   "execution_count": null,
   "metadata": {
    "slideshow": {
     "slide_type": "skip"
    }
   },
   "outputs": [],
   "source": [
    "p = Point2D(-2.0, 5.0)\n",
    "\n",
    "abs(p)"
   ]
  },
  {
   "cell_type": "markdown",
   "metadata": {
    "slideshow": {
     "slide_type": "skip"
    }
   },
   "source": [
    "Note that this is not operator overloading, and that due to just-in-time compilation, the performance of this example code is just as good as for built-in Julia types."
   ]
  },
  {
   "cell_type": "markdown",
   "metadata": {
    "slideshow": {
     "slide_type": "slide"
    },
    "tags": []
   },
   "source": [
    "### Multiple dispatch (extended version)\n",
    "\n",
    "Julia does not use classes to organize nouns (types) and verbs (functions). Instead, multiple dispatch is a central design decision. Thus, the compiler chooses an appropriate method of a given function based on the types of all arguments (not their values!).\n",
    "\n",
    "For more information, see [Stefan Karpinski's talk at JuliaCon (2019)](https://www.youtube.com/watch?v=kc9HwsxE1OY)."
   ]
  },
  {
   "cell_type": "code",
   "execution_count": null,
   "metadata": {
    "slideshow": {
     "slide_type": "subslide"
    }
   },
   "outputs": [],
   "source": [
    "greet(x, y) = println(x, \" greets \", y)"
   ]
  },
  {
   "cell_type": "code",
   "execution_count": null,
   "metadata": {},
   "outputs": [],
   "source": [
    "alice = Person(\"Alice\")\n",
    "bob = Person(\"Bob\")\n",
    "\n",
    "greet(alice, bob)"
   ]
  },
  {
   "cell_type": "markdown",
   "metadata": {
    "slideshow": {
     "slide_type": "fragment"
    }
   },
   "source": [
    "Currently there is only one greet() function, and it will work on `x` and `y` of any type:"
   ]
  },
  {
   "cell_type": "code",
   "execution_count": null,
   "metadata": {},
   "outputs": [],
   "source": [
    "greet(π, \"Kassel\")"
   ]
  },
  {
   "cell_type": "markdown",
   "metadata": {
    "slideshow": {
     "slide_type": "subslide"
    }
   },
   "source": [
    "We can use abstract types to organize the behavior of related types:"
   ]
  },
  {
   "cell_type": "code",
   "execution_count": null,
   "metadata": {},
   "outputs": [],
   "source": [
    "abstract type Animal end\n",
    "\n",
    "struct Cat <: Animal\n",
    "    name::String\n",
    "end"
   ]
  },
  {
   "cell_type": "markdown",
   "metadata": {
    "slideshow": {
     "slide_type": "fragment"
    }
   },
   "source": [
    "We've already defined `greet(x, y)` for any `x` and `y`, but we can add another definition for a more specific set of input types.\n",
    "\n",
    "We can be as specific or as general as we like with the argument types:"
   ]
  },
  {
   "cell_type": "code",
   "execution_count": null,
   "metadata": {},
   "outputs": [],
   "source": [
    "greet(x::Person, y::Animal) = println(x, \" pats \", y)"
   ]
  },
  {
   "cell_type": "code",
   "execution_count": null,
   "metadata": {
    "slideshow": {
     "slide_type": "fragment"
    }
   },
   "outputs": [],
   "source": [
    "greet(x::Cat, y) = println(x, \" meows at \", y)"
   ]
  },
  {
   "cell_type": "markdown",
   "metadata": {
    "slideshow": {
     "slide_type": "subslide"
    }
   },
   "source": [
    "Julia will always pick the *most specific* method that matches the provided function arguments."
   ]
  },
  {
   "cell_type": "code",
   "execution_count": null,
   "metadata": {},
   "outputs": [],
   "source": [
    "fluffy = Cat(\"Fluffy\")\n",
    "\n",
    "greet(alice, fluffy)"
   ]
  },
  {
   "cell_type": "code",
   "execution_count": null,
   "metadata": {
    "slideshow": {
     "slide_type": "fragment"
    }
   },
   "outputs": [],
   "source": [
    "greet(fluffy, alice)"
   ]
  },
  {
   "cell_type": "code",
   "execution_count": null,
   "metadata": {
    "slideshow": {
     "slide_type": "subslide"
    }
   },
   "outputs": [],
   "source": [
    "struct Dog <: Animal\n",
    "    name::String\n",
    "end\n",
    "\n",
    "greet(x::Dog, y) = println(x, \" barks at \", y)\n",
    "\n",
    "greet(x::Dog, y::Person) = println(\"$x licks $y's face\")\n",
    "\n",
    "greet(x::Dog, y::Dog) = println(\"$x sniffs $y's butt\")"
   ]
  },
  {
   "cell_type": "code",
   "execution_count": null,
   "metadata": {
    "slideshow": {
     "slide_type": "fragment"
    }
   },
   "outputs": [],
   "source": [
    "fido = Dog(\"Fido\")\n",
    "rex = Dog(\"Rex\")\n",
    "\n",
    "greet(alice, fido)"
   ]
  },
  {
   "cell_type": "code",
   "execution_count": null,
   "metadata": {
    "slideshow": {
     "slide_type": "fragment"
    }
   },
   "outputs": [],
   "source": [
    "greet(fido, fluffy)"
   ]
  },
  {
   "cell_type": "code",
   "execution_count": null,
   "metadata": {
    "slideshow": {
     "slide_type": "fragment"
    }
   },
   "outputs": [],
   "source": [
    "greet(fido, bob)"
   ]
  },
  {
   "cell_type": "code",
   "execution_count": null,
   "metadata": {
    "slideshow": {
     "slide_type": "fragment"
    }
   },
   "outputs": [],
   "source": [
    "greet(fido, rex)"
   ]
  },
  {
   "cell_type": "markdown",
   "metadata": {
    "slideshow": {
     "slide_type": "subslide"
    }
   },
   "source": [
    "If you want to know which `greet` method will be called for a given set of arguments, you can use `@which` to check:"
   ]
  },
  {
   "cell_type": "code",
   "execution_count": null,
   "metadata": {},
   "outputs": [],
   "source": [
    "@which greet(alice, fido)"
   ]
  },
  {
   "cell_type": "markdown",
   "metadata": {
    "slideshow": {
     "slide_type": "fragment"
    }
   },
   "source": [
    "You can list all of the methods of a given function with `methods`:"
   ]
  },
  {
   "cell_type": "code",
   "execution_count": null,
   "metadata": {},
   "outputs": [],
   "source": [
    "methods(greet)"
   ]
  },
  {
   "cell_type": "markdown",
   "metadata": {
    "slideshow": {
     "slide_type": "subslide"
    }
   },
   "source": [
    "You can access docstrings using `?`."
   ]
  },
  {
   "cell_type": "code",
   "execution_count": null,
   "metadata": {},
   "outputs": [],
   "source": [
    "?methods"
   ]
  },
  {
   "cell_type": "markdown",
   "metadata": {
    "slideshow": {
     "slide_type": "fragment"
    }
   },
   "source": [
    "Tab completion works in Julia and can print possible signatures of functions."
   ]
  },
  {
   "cell_type": "code",
   "execution_count": null,
   "metadata": {},
   "outputs": [],
   "source": [
    "greet( # type TAB"
   ]
  },
  {
   "cell_type": "markdown",
   "metadata": {
    "slideshow": {
     "slide_type": "slide"
    },
    "tags": []
   },
   "source": [
    "## Modules\n",
    "\n",
    "Modules in Julia are used to organize code into namespaces."
   ]
  },
  {
   "cell_type": "code",
   "execution_count": null,
   "metadata": {},
   "outputs": [],
   "source": [
    "module MyUsefulModule\n",
    "\n",
    "export hello\n",
    "\n",
    "hello()   = println(\"Hello world\")\n",
    "goodbye() = println(\"Goodbye world\")\n",
    "\n",
    "end\n",
    "\n",
    "MyUsefulModule.hello()"
   ]
  },
  {
   "cell_type": "markdown",
   "metadata": {
    "slideshow": {
     "slide_type": "fragment"
    }
   },
   "source": [
    "The `using` command brings any `export`ed symbols from a module into the current namespace:"
   ]
  },
  {
   "cell_type": "code",
   "execution_count": null,
   "metadata": {},
   "outputs": [],
   "source": [
    "using .MyUsefulModule\n",
    "hello()"
   ]
  },
  {
   "cell_type": "markdown",
   "metadata": {
    "slideshow": {
     "slide_type": "subslide"
    },
    "tags": []
   },
   "source": [
    "## Using packages\n",
    "\n",
    "Julia has a built-in package manager called `Pkg`. It handles installing packages and managing all your package environments. "
   ]
  },
  {
   "cell_type": "markdown",
   "metadata": {
    "slideshow": {
     "slide_type": "fragment"
    }
   },
   "source": [
    "A package *environment* represents a single set of installed packages. Let's activate the environment for this talk:"
   ]
  },
  {
   "cell_type": "code",
   "execution_count": null,
   "metadata": {},
   "outputs": [],
   "source": [
    "using Pkg\n",
    "Pkg.activate(\".\")\n",
    "Pkg.instantiate()"
   ]
  },
  {
   "cell_type": "markdown",
   "metadata": {},
   "source": [
    "(this is similar to `source venv/bin/activate` in a Python virtual environment)"
   ]
  },
  {
   "cell_type": "markdown",
   "metadata": {
    "slideshow": {
     "slide_type": "subslide"
    }
   },
   "source": [
    "We can install a package in our current environment. This will only affect that environment, so we can safely do this without breaking any other Julia projects we might be working on:"
   ]
  },
  {
   "cell_type": "code",
   "execution_count": null,
   "metadata": {},
   "outputs": [],
   "source": [
    "Pkg.add(\"BenchmarkTools\")"
   ]
  },
  {
   "cell_type": "markdown",
   "metadata": {
    "slideshow": {
     "slide_type": "subslide"
    }
   },
   "source": [
    "The `Project.toml` file gives a concise description of the packages we've added to this environment:"
   ]
  },
  {
   "cell_type": "code",
   "execution_count": null,
   "metadata": {},
   "outputs": [],
   "source": [
    "run(`cat Project.toml`)"
   ]
  },
  {
   "cell_type": "markdown",
   "metadata": {
    "slideshow": {
     "slide_type": "subslide"
    }
   },
   "source": [
    "The package manager also generates a complete manifest of every package that is installed, including all the transitive dependencies and their versions. You can use this to reproduce a given package environment exactly:"
   ]
  },
  {
   "cell_type": "code",
   "execution_count": null,
   "metadata": {},
   "outputs": [],
   "source": [
    "run(`head -n 20 Manifest.toml`)"
   ]
  },
  {
   "cell_type": "markdown",
   "metadata": {
    "slideshow": {
     "slide_type": "slide"
    }
   },
   "source": [
    "# Julia is fast\n",
    "\n",
    "* I claimed at the beginning of this talk that Julia has performance on par with C. Let's prove it!\n",
    "* To show this, I'll implement the basic `sum` function in Julia, C, and Python so we can compare them:"
   ]
  },
  {
   "cell_type": "markdown",
   "metadata": {
    "slideshow": {
     "slide_type": "subslide"
    }
   },
   "source": [
    "Let's start with Julia:"
   ]
  },
  {
   "cell_type": "code",
   "execution_count": null,
   "metadata": {
    "slideshow": {
     "slide_type": "-"
    }
   },
   "outputs": [],
   "source": [
    "\"\"\"\n",
    "    my_sum(x)\n",
    "\n",
    "Naive implementation of sum. Works for any iterable `x` with any element type.\n",
    "\"\"\"\n",
    "function my_sum(x)\n",
    "    result = zero(eltype(x))\n",
    "    for element in x\n",
    "        result += element\n",
    "    end\n",
    "    return result\n",
    "end"
   ]
  },
  {
   "cell_type": "markdown",
   "metadata": {
    "slideshow": {
     "slide_type": "fragment"
    }
   },
   "source": [
    "And let's create some data to test with:"
   ]
  },
  {
   "cell_type": "code",
   "execution_count": null,
   "metadata": {},
   "outputs": [],
   "source": [
    "data = randn(Float64, 10^7);"
   ]
  },
  {
   "cell_type": "markdown",
   "metadata": {
    "slideshow": {
     "slide_type": "subslide"
    }
   },
   "source": [
    "To measure the performance of `my_sum`, we'll use the [BenchmarkTools](https://github.com/JuliaCI/BenchmarkTools.jl) package. "
   ]
  },
  {
   "cell_type": "code",
   "execution_count": null,
   "metadata": {},
   "outputs": [],
   "source": [
    "using BenchmarkTools"
   ]
  },
  {
   "cell_type": "code",
   "execution_count": null,
   "metadata": {
    "slideshow": {
     "slide_type": "fragment"
    }
   },
   "outputs": [],
   "source": [
    "@benchmark my_sum($data)"
   ]
  },
  {
   "cell_type": "markdown",
   "metadata": {
    "slideshow": {
     "slide_type": "fragment"
    }
   },
   "source": [
    "In this case, we only care about the minimum time. The `@btime` macro is a shorthand to print just that minimum time:"
   ]
  },
  {
   "cell_type": "code",
   "execution_count": null,
   "metadata": {},
   "outputs": [],
   "source": [
    "@btime my_sum($data)"
   ]
  },
  {
   "cell_type": "markdown",
   "metadata": {
    "slideshow": {
     "slide_type": "subslide"
    }
   },
   "source": [
    "Let's compare this with C. It's easy to call functions from C shared libraries in Julia:"
   ]
  },
  {
   "cell_type": "code",
   "execution_count": null,
   "metadata": {},
   "outputs": [],
   "source": [
    "\"\"\"\n",
    "Call the `strcmp` function from `libc.so.6`\n",
    "\"\"\"\n",
    "function c_compare(x::String, y::String)\n",
    "    # We have to tell the compiler that this C function returns an `int` and \n",
    "    # expects two `char *` inputs. The `Cint` and `Cstring` types are convenient\n",
    "    # shorthands for those:\n",
    "    ccall((:strcmp, \"libc.so.6\"), Cint, (Cstring, Cstring), x, y)\n",
    "end"
   ]
  },
  {
   "cell_type": "code",
   "execution_count": null,
   "metadata": {
    "slideshow": {
     "slide_type": "fragment"
    }
   },
   "outputs": [],
   "source": [
    "c_compare(\"hello\", \"hello\")"
   ]
  },
  {
   "cell_type": "markdown",
   "metadata": {
    "slideshow": {
     "slide_type": "fragment"
    }
   },
   "source": [
    "Calling C functions has very little overhead:"
   ]
  },
  {
   "cell_type": "code",
   "execution_count": null,
   "metadata": {},
   "outputs": [],
   "source": [
    "@btime c_compare($(\"hello\"), $(\"hello\"))"
   ]
  },
  {
   "cell_type": "markdown",
   "metadata": {
    "slideshow": {
     "slide_type": "subslide"
    }
   },
   "source": [
    "Let's create a C implementation of `my_sum`. We can do that without leaving Julia by piping some code directly to GCC:"
   ]
  },
  {
   "cell_type": "code",
   "execution_count": null,
   "metadata": {},
   "outputs": [],
   "source": [
    "C_code = \"\"\"\n",
    "#include <stddef.h>  // For `size_t`\n",
    "\n",
    "// Note: our Julia code works for any type, but the C implementation \n",
    "// is only for `double`.\n",
    "\n",
    "double c_sum(size_t n, double* x) {\n",
    "    double s = 0.0;\n",
    "    size_t i;\n",
    "    for (i = 0; i < n; ++i) {\n",
    "        s += x[i];\n",
    "    }\n",
    "    return s;\n",
    "}\n",
    "\"\"\";"
   ]
  },
  {
   "cell_type": "markdown",
   "metadata": {
    "slideshow": {
     "slide_type": "fragment"
    }
   },
   "source": [
    "Now let's generate a name for our shared library:"
   ]
  },
  {
   "cell_type": "code",
   "execution_count": null,
   "metadata": {},
   "outputs": [],
   "source": [
    "# dlext gives the correct file extension for a shared library on this platform\n",
    "using Libdl: dlext\n",
    "Clib = tempname() * \".\" * dlext"
   ]
  },
  {
   "cell_type": "markdown",
   "metadata": {
    "slideshow": {
     "slide_type": "subslide"
    }
   },
   "source": [
    "To send the code to GCC, we can use `open()` on a command to write directly to the `stdin` of that command as if it were any other file- or buffer-like object:"
   ]
  },
  {
   "cell_type": "code",
   "execution_count": null,
   "metadata": {},
   "outputs": [],
   "source": [
    "open(`gcc -fPIC -O3 -march=native -mtune=native -xc -shared -o $Clib -`, \"w\") do cmd\n",
    "    print(cmd, C_code) \n",
    "end"
   ]
  },
  {
   "cell_type": "markdown",
   "metadata": {
    "slideshow": {
     "slide_type": "fragment"
    }
   },
   "source": [
    "Now we can define a Julia function that calls the C function we just compiled:"
   ]
  },
  {
   "cell_type": "code",
   "execution_count": null,
   "metadata": {},
   "outputs": [],
   "source": [
    "# The return type and argument types must match the signature we declared above:\n",
    "# \n",
    "#   double c_sum(size_t n, double* x) \n",
    "# \n",
    "c_sum(x::Array{Float64}) = @ccall Clib.c_sum(length(x)::Csize_t, x::Ptr{Cdouble})::Cdouble"
   ]
  },
  {
   "cell_type": "markdown",
   "metadata": {
    "slideshow": {
     "slide_type": "subslide"
    }
   },
   "source": [
    "Now let's measure the performance of the pure C function:"
   ]
  },
  {
   "cell_type": "code",
   "execution_count": null,
   "metadata": {},
   "outputs": [],
   "source": [
    "@btime c_sum($data)"
   ]
  },
  {
   "cell_type": "markdown",
   "metadata": {
    "slideshow": {
     "slide_type": "subslide"
    }
   },
   "source": [
    "Let's plot the result using the [Plots](https://github.com/JuliaPlots/Plots.jl) package."
   ]
  },
  {
   "cell_type": "code",
   "execution_count": null,
   "metadata": {},
   "outputs": [],
   "source": [
    "using Plots"
   ]
  },
  {
   "cell_type": "code",
   "execution_count": null,
   "metadata": {
    "slideshow": {
     "slide_type": "fragment"
    }
   },
   "outputs": [],
   "source": [
    "results = Dict(\n",
    "    \"my_sum (Julia)\" => 10.3,\n",
    "    \"c_sum (C)\" => 10.3\n",
    ")\n",
    "\n",
    "xlabel=\"function\"; ylabel=\"time (ms, shorter is better)\"; legend=nothing;\n",
    "bar(results; xlabel, ylabel, legend)"
   ]
  },
  {
   "cell_type": "markdown",
   "metadata": {
    "slideshow": {
     "slide_type": "subslide"
    }
   },
   "source": [
    "Our naive Julia code is just as fast as our naive C code! \n",
    "\n",
    "Is that as fast as we can go? What about Julia's built-in `sum()` function:"
   ]
  },
  {
   "cell_type": "code",
   "execution_count": null,
   "metadata": {
    "slideshow": {
     "slide_type": "fragment"
    }
   },
   "outputs": [],
   "source": [
    "@btime sum($data)"
   ]
  },
  {
   "cell_type": "code",
   "execution_count": null,
   "metadata": {
    "slideshow": {
     "slide_type": "fragment"
    }
   },
   "outputs": [],
   "source": [
    "results[\"sum (Julia)\"] = 5.2\n",
    "\n",
    "bar(results; xlabel, ylabel, legend)"
   ]
  },
  {
   "cell_type": "markdown",
   "metadata": {
    "slideshow": {
     "slide_type": "subslide"
    }
   },
   "source": [
    "What's going on? Is the `sum()` function using some built-in behavior we don't have access to?"
   ]
  },
  {
   "cell_type": "markdown",
   "metadata": {
    "slideshow": {
     "slide_type": "fragment"
    }
   },
   "source": [
    "Nope - we can achieve that result easily with a few modifications:"
   ]
  },
  {
   "cell_type": "code",
   "execution_count": null,
   "metadata": {},
   "outputs": [],
   "source": [
    "function my_fast_sum(x)\n",
    "    result = zero(eltype(x))\n",
    "\n",
    "    # `@simd` enables additional vector operations by indicating that it is OK to potentially\n",
    "    # evaluate the loop out-of-order. \n",
    "    @simd for element in x\n",
    "        result += element\n",
    "    end\n",
    "    result\n",
    "end"
   ]
  },
  {
   "cell_type": "code",
   "execution_count": null,
   "metadata": {
    "slideshow": {
     "slide_type": "subslide"
    }
   },
   "outputs": [],
   "source": [
    "@btime my_fast_sum($data)"
   ]
  },
  {
   "cell_type": "code",
   "execution_count": null,
   "metadata": {},
   "outputs": [],
   "source": [
    "results[\"my_fast_sum (Julia)\"] = 5.3\n",
    "\n",
    "bar(results; xlabel, ylabel, legend)"
   ]
  },
  {
   "cell_type": "markdown",
   "metadata": {
    "slideshow": {
     "slide_type": "subslide"
    }
   },
   "source": [
    "With some pretty simple changes, we were able to create a pure-Julia function which is twice as fast as our naive C function while still being clear and completely generic:"
   ]
  },
  {
   "cell_type": "code",
   "execution_count": null,
   "metadata": {},
   "outputs": [],
   "source": [
    "my_fast_sum([1, 2.5, π])"
   ]
  },
  {
   "cell_type": "markdown",
   "metadata": {
    "slideshow": {
     "slide_type": "subslide"
    }
   },
   "source": [
    "Just for reference, let's compare with Python. It's easy to call Python code from Julia too - we just need the [PyCall](https://github.com/JuliaPy/PyCall.jl) package (or the newer alternative [PythonCall](https://github.com/cjdoris/PythonCall.jl)):"
   ]
  },
  {
   "cell_type": "code",
   "execution_count": null,
   "metadata": {},
   "outputs": [],
   "source": [
    "using PyCall"
   ]
  },
  {
   "cell_type": "code",
   "execution_count": null,
   "metadata": {
    "slideshow": {
     "slide_type": "fragment"
    }
   },
   "outputs": [],
   "source": [
    "py_math = pyimport(\"math\")\n",
    "py_math.sin.([0, π/2, π])"
   ]
  },
  {
   "cell_type": "markdown",
   "metadata": {
    "slideshow": {
     "slide_type": "subslide"
    }
   },
   "source": [
    "Just as we did with C, we can quickly define a Python sum function without leaving Julia:"
   ]
  },
  {
   "cell_type": "code",
   "execution_count": null,
   "metadata": {
    "slideshow": {
     "slide_type": "fragment"
    }
   },
   "outputs": [],
   "source": [
    "# The PyCall package lets us define python functions directly from Julia:\n",
    "\n",
    "py\"\"\"\n",
    "def mysum(a):\n",
    "    s = 0.0\n",
    "    for x in a:\n",
    "        s = s + x\n",
    "    return s\n",
    "\"\"\"\n",
    "\n",
    "# mysum_py is a reference to the Python mysum function\n",
    "py_sum = py\"\"\"mysum\"\"\"o"
   ]
  },
  {
   "cell_type": "markdown",
   "metadata": {
    "slideshow": {
     "slide_type": "fragment"
    }
   },
   "source": [
    "Let's make sure we're getting similar answers everywhere:"
   ]
  },
  {
   "cell_type": "code",
   "execution_count": null,
   "metadata": {},
   "outputs": [],
   "source": [
    "py_sum(data) ≈ c_sum(data) ≈ sum(data) ≈ my_sum(data) ≈ my_fast_sum(data)"
   ]
  },
  {
   "cell_type": "code",
   "execution_count": null,
   "metadata": {
    "slideshow": {
     "slide_type": "subslide"
    }
   },
   "outputs": [],
   "source": [
    "@btime py_sum($data)"
   ]
  },
  {
   "cell_type": "code",
   "execution_count": null,
   "metadata": {},
   "outputs": [],
   "source": [
    "results[\"py_sum (Python)\"] = 1.4e3\n",
    "\n",
    "bar(results; xlabel, ylabel, legend)"
   ]
  },
  {
   "cell_type": "markdown",
   "metadata": {
    "slideshow": {
     "slide_type": "subslide"
    }
   },
   "source": [
    "### What about Numpy or Cython?\n",
    "\n",
    "* Of course, there are faster ways to sum a vector of `double`s in Python than a `for` loop. \n",
    "* `numpy.sum()` is just as fast as Julia's `sum()` for large vectors...\n",
    "* ...but there are some caveats:\n",
    "  * NumPy is only efficient for a pre-determined set of numeric types. \n",
    "  * NumPy cannot be extended without switching into an entirely different programming language, build system, and code environment. \n",
    "  * So, if `numpy.sum()` happens to cover the cases you actually need, then go for it!\n",
    "  * But if you want to be able to write efficient code that does not happen to cover the specific set of functions and types in NumPy, then you need something else. "
   ]
  },
  {
   "cell_type": "code",
   "execution_count": null,
   "metadata": {
    "slideshow": {
     "slide_type": "subslide"
    }
   },
   "outputs": [],
   "source": [
    "struct Point{T}\n",
    "    x::T\n",
    "    y::T\n",
    "end\n",
    "\n",
    "function Base.zero(::Type{Point{T}}) where {T} \n",
    "    Point{T}(zero(T), zero(T))\n",
    "end\n",
    "    \n",
    "Base.:+(p1::Point, p2::Point) = Point(p1.x + p2.x, p1.y + p2.y)\n",
    "\n",
    "n = 10^7; points = Point.(randn(n), randn(n));"
   ]
  },
  {
   "cell_type": "code",
   "execution_count": null,
   "metadata": {
    "slideshow": {
     "slide_type": "fragment"
    }
   },
   "outputs": [],
   "source": [
    "@btime my_fast_sum($points)"
   ]
  },
  {
   "cell_type": "code",
   "execution_count": null,
   "metadata": {
    "slideshow": {
     "slide_type": "subslide"
    }
   },
   "outputs": [],
   "source": [
    "@code_native debuginfo=:none my_fast_sum(points)"
   ]
  },
  {
   "cell_type": "markdown",
   "metadata": {
    "slideshow": {
     "slide_type": "slide"
    },
    "tags": []
   },
   "source": [
    "# Bonus features of Julia"
   ]
  },
  {
   "cell_type": "markdown",
   "metadata": {
    "slideshow": {
     "slide_type": "subslide"
    }
   },
   "source": [
    "## Anything can be a value\n",
    "\n",
    "Julia has no special rules about what can or cannot be assigned to a variable or passed to a function. "
   ]
  },
  {
   "cell_type": "markdown",
   "metadata": {
    "slideshow": {
     "slide_type": "fragment"
    }
   },
   "source": [
    "### Functions are values\n",
    "\n",
    "A Julia function is a value like any other, so passing functions around and implementing higher-order functions is trivial. This approach is used in several higher order functions of Julia such as `mapreduce`."
   ]
  },
  {
   "cell_type": "code",
   "execution_count": null,
   "metadata": {},
   "outputs": [],
   "source": [
    "data = randn(10^4)\n",
    "sum(data) ≈ mapreduce(identity, +, data)"
   ]
  },
  {
   "cell_type": "markdown",
   "metadata": {
    "slideshow": {
     "slide_type": "subslide"
    }
   },
   "source": [
    "Functions can be inlined, even into standard library code. The compiler heuristics are often good and you can nudge it using `@inline` if necessary. Let's measure the performance of `mapreduce` with out own functions using `@benchmark` from BenchmarkTools:"
   ]
  },
  {
   "cell_type": "code",
   "execution_count": null,
   "metadata": {
    "slideshow": {
     "slide_type": "-"
    }
   },
   "outputs": [],
   "source": [
    "using BenchmarkTools\n",
    "\n",
    "my_identity(x) = x\n",
    "my_plus(x, y) = x + y\n",
    "@benchmark mapreduce($my_identity, $my_plus, $data)"
   ]
  },
  {
   "cell_type": "markdown",
   "metadata": {},
   "source": [
    "This is similar to using the built-in function `sum`"
   ]
  },
  {
   "cell_type": "code",
   "execution_count": null,
   "metadata": {},
   "outputs": [],
   "source": [
    "@benchmark sum($data)"
   ]
  },
  {
   "cell_type": "markdown",
   "metadata": {
    "slideshow": {
     "slide_type": "subslide"
    }
   },
   "source": [
    "If we tell the compiler not to inline our functions, the performance will be reduced significantly, of course."
   ]
  },
  {
   "cell_type": "code",
   "execution_count": null,
   "metadata": {},
   "outputs": [],
   "source": [
    "@noinline my_identity_not_inlined(x) = x\n",
    "@noinline my_plus_not_inlined(x, y) = x + y\n",
    "@benchmark mapreduce($my_identity_not_inlined, $my_plus_not_inlined, $data)"
   ]
  },
  {
   "cell_type": "code",
   "execution_count": null,
   "metadata": {
    "slideshow": {
     "slide_type": "skip"
    }
   },
   "outputs": [],
   "source": [
    "# to free some memory on mybinder.org\n",
    "data = nothing\n",
    "GC.gc()"
   ]
  },
  {
   "cell_type": "markdown",
   "metadata": {
    "slideshow": {
     "slide_type": "subslide"
    }
   },
   "source": [
    "### Types are values\n",
    "\n",
    "Types can also be passed around as values and bound to variables with no special rules. This makes implementing factories or constructors easy:"
   ]
  },
  {
   "cell_type": "code",
   "execution_count": null,
   "metadata": {
    "slideshow": {
     "slide_type": "fragment"
    }
   },
   "outputs": [],
   "source": [
    "zeros(Float64, 3, 3)"
   ]
  },
  {
   "cell_type": "markdown",
   "metadata": {
    "slideshow": {
     "slide_type": "subslide"
    }
   },
   "source": [
    "### Macros\n",
    "\n",
    "A macro is written just like a normal Julia function. The difference is that a macro operates on the *expression* itself, not on its value:"
   ]
  },
  {
   "cell_type": "markdown",
   "metadata": {
    "slideshow": {
     "slide_type": "fragment"
    }
   },
   "source": [
    "`@show` : print out the *name* of a variable and its value. Great for quick debugging:"
   ]
  },
  {
   "cell_type": "code",
   "execution_count": null,
   "metadata": {},
   "outputs": [],
   "source": [
    "x = 5\n",
    "@show x"
   ]
  },
  {
   "cell_type": "markdown",
   "metadata": {
    "slideshow": {
     "slide_type": "fragment"
    }
   },
   "source": [
    "`@time` measure the elapsed time of an expression and return the result of that expression:"
   ]
  },
  {
   "cell_type": "code",
   "execution_count": null,
   "metadata": {},
   "outputs": [],
   "source": [
    "@time sqrt(big(π))"
   ]
  },
  {
   "cell_type": "markdown",
   "metadata": {
    "slideshow": {
     "slide_type": "skip"
    }
   },
   "source": [
    "We have seen its sibling `@benchmark` above."
   ]
  },
  {
   "cell_type": "markdown",
   "metadata": {
    "slideshow": {
     "slide_type": "slide"
    }
   },
   "source": [
    "# What's hard to do in Julia?\n",
    "\n",
    "- What is the compiler team working on making better?\n",
    "- What are some subtle problems that the Julia team would like to fix?\n",
    "\n",
    "[![What's bad about Julia talk](img/bad_about_julia.png)](https://www.youtube.com/watch?v=TPuJsgyu87U)"
   ]
  },
  {
   "cell_type": "markdown",
   "metadata": {
    "slideshow": {
     "slide_type": "fragment"
    }
   },
   "source": [
    "## Compiler latency\n",
    "\n",
    "- The JIT compiler runs each time it sees a function being called with a new input type\n",
    "- That makes the first call slow, since you have to wait for the JIT\n",
    "  - This makes Julia awkward for things like shell scripts or AWS lambda\n",
    "- The compiler is essentially serial"
   ]
  },
  {
   "cell_type": "markdown",
   "metadata": {
    "slideshow": {
     "slide_type": "subslide"
    }
   },
   "source": [
    "## Static compilation\n",
    "\n",
    "* To avoid the JIT lag, you can compile a Julia package to a standalone executable using [PackageCompiler.jl](https://github.com/JuliaLang/PackageCompiler.jl), but:\n",
    "    * This workflow is not used widely\n",
    "    * The resulting libraries tend to be quite large\n",
    "    * Some people have compiled Julia code for Arduino"
   ]
  },
  {
   "cell_type": "markdown",
   "metadata": {
    "slideshow": {
     "slide_type": "fragment"
    }
   },
   "source": [
    "## Static analysis\n",
    "\n",
    "* There are some linting tools for Julia (like the `vscode-julia` extension for Visual Studio Code), but they are not as mature as languages like Python, C, Java, etc.\n",
    "* Static analysis of Julia is harder, since the language itself is dynamically typed\n",
    "  * To be fair, static analysis of C++ is [undecidable](https://blog.reverberate.org/2013/08/parsing-c-is-literally-undecidable.html) but we still have tools that do a pretty good job most of the time"
   ]
  },
  {
   "cell_type": "markdown",
   "metadata": {
    "slideshow": {
     "slide_type": "subslide"
    }
   },
   "source": [
    "## HPC for simulation science (in contrast to data science)\n",
    "\n",
    "- The ecosystem for traditional HPC frameworks needs to be advanced\n",
    "- Binaries (depending on MPI) must still be configured manually\n",
    "- Some momemtum comes from the [CliMA project at CalTech](https://clima.caltech.edu/)\n",
    "- We are working on it with Trixi.jl"
   ]
  },
  {
   "cell_type": "markdown",
   "metadata": {
    "slideshow": {
     "slide_type": "fragment"
    }
   },
   "source": [
    "## Embedded computing\n",
    "\n",
    "- It can be hard to run Julia on memory-limited systems, since you need the compiler living alongside your code\n",
    "- Static compilation can help, but this isn't a well-developed workflow yet"
   ]
  },
  {
   "cell_type": "markdown",
   "metadata": {
    "slideshow": {
     "slide_type": "slide"
    }
   },
   "source": [
    "## Summary\n",
    "\n",
    "- Teaching\n",
    "  - Interactive notebooks (Jupyter, Pluto)\n",
    "  - Simple setup and installation\n",
    "  - Multiple dispatch \"feels mathematically correct\"\n",
    "- Open source development\n",
    "  - Avoids two-language problem\n",
    "  - Best practices built into the language\n",
    "  - Great community of Julia users and experts willing to help\n",
    "- Research\n",
    "  - Open source\n",
    "  - Reproducibility\n",
    "  - Young but relatively rich scientific ecosystem"
   ]
  },
  {
   "cell_type": "markdown",
   "metadata": {
    "slideshow": {
     "slide_type": "skip"
    }
   },
   "source": [
    "# Useful Julia Tools"
   ]
  },
  {
   "cell_type": "markdown",
   "metadata": {
    "slideshow": {
     "slide_type": "skip"
    }
   },
   "source": [
    "## Julia VSCode\n",
    "\n",
    "https://github.com/julia-vscode/julia-vscode\n",
    "\n",
    "* Code highlighting, snippets, linting, and completions\n",
    "* Integrated plot and table viewers\n",
    "* General extension support via the VSCode language server\n",
    "\n",
    "<div align=\"center\">\n",
    "  <img src=\"https://github.com/julia-vscode/julia-vscode.github.io/raw/243947a5d00b47ff65b9c133da287697f84aeada/img/newscreen5.png\" width=\"70%\"/>\n",
    "</div>"
   ]
  },
  {
   "cell_type": "markdown",
   "metadata": {
    "slideshow": {
     "slide_type": "skip"
    }
   },
   "source": [
    "## [Revise.jl](https://github.com/timholy/Revise.jl)\n",
    "\n",
    "- Reduce overhead while developing\n",
    "- Partial replacement of `make`\n",
    "\n",
    "<div align=\"center\">\n",
    "  <img src=\"https://github.com/timholy/Revise.jl/raw/master/images/revise-wordmark.png\" width=\"60%\">\n",
    "</div>"
   ]
  },
  {
   "cell_type": "markdown",
   "metadata": {
    "slideshow": {
     "slide_type": "skip"
    }
   },
   "source": [
    "## [DifferentialEquations/OrdinaryDiffEq](https://github.com/SciML/DifferentialEquations.jl)\n",
    "\n",
    "* { ordinary | delay | stochastic | * } differential equations\n",
    "* Automatic differentiation and sparsity detection\n",
    "* Sensitivity analysis and parameter estimation\n",
    "* Access to pure-Julia solvers and existing C and Fortran solvers\n",
    "\n",
    "<div align=\"center\">\n",
    "  <img src=\"https://github.com/SciML/DifferentialEquations.jl/raw/master/assets/DifferentialEquations_Example.png\" width=\"50%\"/>\n",
    "</div>\n"
   ]
  },
  {
   "cell_type": "markdown",
   "metadata": {
    "slideshow": {
     "slide_type": "skip"
    }
   },
   "source": [
    "## [DataFrames](https://github.com/JuliaData/DataFrames.jl)\n",
    "\n",
    "- In-memory tabular data\n",
    "- Joining, indexing, grouping, and split-apply-combine\n",
    "\n",
    "```julia\n",
    "julia> using DataFrames\n",
    "\n",
    "julia> df = DataFrame(A = 1:4, B = [\"M\", \"F\", \"F\", \"M\"])\n",
    "4×2 DataFrame\n",
    "│ Row │ A     │ B      │\n",
    "│     │ Int64 │ String │\n",
    "├─────┼───────┼────────┤\n",
    "│ 1   │ 1     │ M      │\n",
    "│ 2   │ 2     │ F      │\n",
    "│ 3   │ 3     │ F      │\n",
    "│ 4   │ 4     │ M      │\n",
    "```"
   ]
  },
  {
   "cell_type": "markdown",
   "metadata": {
    "slideshow": {
     "slide_type": "skip"
    }
   },
   "source": [
    "## Automatic differentiation\n",
    "\n",
    "- Forward/reverse mode AD and more\n",
    "  - [ForwardDiff](https://github.com/JuliaDiff/ForwardDiff.jl)\n",
    "  - [ReverseDiff](https://github.com/JuliaDiff/ReverseDiff.jl)\n",
    "  - [Zygote](https://github.com/FluxML/Zygote.jl)\n",
    "  - More to come\n",
    "- Common tools in [ChainRules](https://github.com/JuliaDiff/ChainRules.jl)\n",
    "\n",
    "<div align=\"center\">\n",
    "  <img src=\"https://avatars.githubusercontent.com/u/7750915?s=200&v=4\" width=\"20%\">\n",
    "</div>"
   ]
  },
  {
   "cell_type": "markdown",
   "metadata": {
    "slideshow": {
     "slide_type": "skip"
    }
   },
   "source": [
    "## [LoopVectorization.jl](https://github.com/JuliaSIMD/LoopVectorization.jl), [Polyester.jl](https://github.com/JuliaSIMD/CheapThreads.jl)\n",
    "\n",
    "- Advanced SIMD programming in Julia\n",
    "- Able to beat MKL with pure Julia code\n",
    "\n",
    "<div align=\"center\">\n",
    "  <img src=\"https://avatars.githubusercontent.com/u/80543003?s=200&v=4\" width=\"20%\">\n",
    "</div>"
   ]
  },
  {
   "cell_type": "markdown",
   "metadata": {
    "slideshow": {
     "slide_type": "skip"
    }
   },
   "source": [
    "## [JuliaGPU](https://juliagpu.org/)\n",
    "\n",
    "- Compile Julia on GPUs\n",
    "- High-level interface used for ML, data science, differential equations, ...\n",
    "\n",
    "<div align=\"center\">\n",
    "  <img src=\"https://github.com/JuliaGPU/juliagpu.org/raw/master/_assets/logo_crop.png\" width=\"20%\">\n",
    "</div>"
   ]
  }
 ],
 "metadata": {
  "celltoolbar": "Slideshow",
  "kernelspec": {
   "display_name": "Julia 1.9.0",
   "language": "julia",
   "name": "julia-1.9"
  },
  "language_info": {
   "file_extension": ".jl",
   "mimetype": "application/julia",
   "name": "julia",
   "version": "1.9.0"
  }
 },
 "nbformat": 4,
 "nbformat_minor": 4
}
